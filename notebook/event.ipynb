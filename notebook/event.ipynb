{
 "cells": [
  {
   "cell_type": "code",
   "execution_count": 2,
   "metadata": {},
   "outputs": [],
   "source": [
    "import pandas as pd\n",
    "import numpy as np\n",
    "import re\n",
    "\n",
    "data = pd.read_excel('File Path/TongHop.xlsx', sheet_name=None)\n",
    "bad = data['DocHai'].drop(columns=['Thời gian', 'thoigian', 'Chi tiết']).rename(columns={'MoTa': 'Info', 'SuKien': 'Type', 'MAC_Nguon': 'MAC_id'})\n",
    "\n",
    "persistence_bad = bad[bad['Type'] == 'Persistence'].copy()\n",
    "persistence_bad['Info'] = persistence_bad['Info'].apply(lambda x: x.split('ValueData: ')[1].split('--')[0])\n",
    "\n",
    "process_bad = bad[bad['Type'] == 'Process'].copy()\n",
    "process_bad['Info'] = process_bad['Info'].apply(lambda x: x.split('--')[0])\n",
    "\n",
    "black_bad = bad[bad['Type'] == 'Black Domain'].copy()\n",
    "black_bad['Info'] = black_bad['Info'].apply(lambda x: x.split('---')[1])\n",
    "\n",
    "file_bad = bad[bad['Type'] == 'Create File'].copy()\n",
    "file_bad['Info'] = file_bad['Info'].apply(lambda x: x.split('FileName: ')[1].split('--')[0])\n",
    "\n",
    "malware_bad = bad[bad['Type'] == 'Malware'].copy()\n",
    "malware_bad['Info'] = malware_bad['Info'].apply(lambda x: x.split('--')[1].split(';')[0])\n",
    "malware_bad['Info'] = malware_bad['Info'].apply(lambda x: re.sub(r'[\\(].*[\\)]', '', x))\n",
    "malware_bad['Info'] = malware_bad['Info'].apply(lambda x: re.sub(r'\\\\\\s', '', x))\n",
    "malware_bad['Info'] = malware_bad['Info'].apply(lambda x: re.sub(r'\\\\_', '', x))\n",
    "\n",
    "autorun_bad = bad[bad['Type'] == 'Autorun'].copy()\n",
    "autorun_bad['Info'] = autorun_bad['Info'].apply(lambda x: x.split('--')[1])\n",
    "autorun_bad['Info'] = autorun_bad['Info'].apply(lambda x: re.sub(r'[\\(]No Signed[\\)]', '', x))\n",
    "\n",
    "usb_bad = bad[bad['Type'] == 'USB'].copy()\n",
    "\n",
    "bad = pd.concat([persistence_bad, process_bad, black_bad, autorun_bad, file_bad, malware_bad], ignore_index=True)\n",
    "bad['Info'] = bad['Info'].apply(lambda x: x.lower())\n",
    "bad.drop_duplicates(subset=['MAC_id', 'Info'], keep='first', inplace=True)\n",
    "bad = pd.concat([bad, usb_bad], ignore_index=True)\n",
    "bad['label'] = 1\n",
    "\n",
    "good = data['BinhThuong'].drop(columns=['Thời gian', 'thoigian', 'Chi tiết']).rename(columns={'MoTa': 'Info', 'SuKien': 'Type', 'MAC_Nguon': 'MAC_id'})\n",
    "persistence_good = good[good['Type'] == 'Persistence'].copy()\n",
    "persistence_good['Info'] = persistence_good['Info'].apply(lambda x: x.split('ValueData: ')[1].split('--')[0])\n",
    "\n",
    "file_good = good[good['Type'] == 'Create File'].copy()\n",
    "file_good['Info'] = file_good['Info'].apply(lambda x: x.split('FileName: ')[1].split('--')[0])\n",
    "\n",
    "autorun_good = good[good['Type'] == 'Autorun'].copy()\n",
    "autorun_good['Info'] = autorun_good['Info'].apply(lambda x: x.split('--')[1])\n",
    "autorun_good['Info'] = autorun_good['Info'].apply(lambda x: re.sub(r'[\\(]No Signed[\\)]', '', x))\n",
    "\n",
    "usb_good = good[good['Type'] == 'USB'].copy()\n",
    "\n",
    "good = pd.concat([persistence_good, file_good, autorun_good], ignore_index=True)\n",
    "good['Info'] = good['Info'].apply(lambda x: x.lower())\n",
    "good.drop_duplicates(subset=['MAC_id', 'Info'], keep='first', inplace=True)\n",
    "good = pd.concat([good, usb_good], ignore_index=True)\n",
    "good['label'] = 0\n",
    "\n",
    "final1 = pd.concat([bad, good], ignore_index=True)\n",
    "\n",
    "data = pd.read_excel('File Path/data_chuoi.xlsx', sheet_name=None, header=None)\n",
    "\n",
    "bad = data['chuoi_doc'].drop(columns=[2]).rename(columns={0: 'MAC_id', 1: 'Type', 3: 'Info'})\n",
    "\n",
    "file_bad = bad[bad['Type'] == 'Create File'].copy()\n",
    "file_bad['Info'] = file_bad['Info'].apply(lambda x: x.split('FileName: ')[1].split('--')[0])\n",
    "\n",
    "autorun_bad = bad[bad['Type'] == 'Autorun'].copy()\n",
    "autorun_bad['Info'] = autorun_bad['Info'].apply(lambda x: x.split('--')[1])\n",
    "autorun_bad['Info'] = autorun_bad['Info'].apply(lambda x: re.sub(r'[\\(]No Signed[\\)]', '', x))\n",
    "\n",
    "malware_bad = bad[bad['Type'] == 'Malware'].copy()\n",
    "malware_bad['Info'] = malware_bad['Info'].apply(lambda x: x.split('--')[1].split(';')[0])\n",
    "malware_bad['Info'] = malware_bad['Info'].apply(lambda x: re.sub(r'[\\(].*[\\)]', '', x))\n",
    "malware_bad['Info'] = malware_bad['Info'].apply(lambda x: re.sub(r'\\\\\\s', '', x))\n",
    "malware_bad['Info'] = malware_bad['Info'].apply(lambda x: re.sub(r'\\\\_', '', x))\n",
    "\n",
    "persistence_bad = bad[bad['Type'] == 'Persistence'].copy()\n",
    "persistence_bad['Info'] = persistence_bad['Info'].apply(lambda x: x.split('ValueData: ')[1].split('--')[0])\n",
    "persistence_bad = persistence_bad[persistence_bad['Info'].map(lambda x: len(re.findall(r'\\\\', x))) != 0]\n",
    "\n",
    "black_bad = bad[bad['Type'] == 'Black Domain'].copy()\n",
    "black_bad = black_bad[black_bad['Info'].map(lambda x: len(re.findall(r'\\---', x))) != 0]\n",
    "black_bad['Info'] = black_bad['Info'].apply(lambda x: x.split('---')[1])\n",
    "\n",
    "usb_bad = bad[bad['Type'] == 'USB'].copy()\n",
    "\n",
    "bad = pd.concat([persistence_bad, black_bad, autorun_bad, file_bad, malware_bad], ignore_index=True)\n",
    "bad['Info'] = bad['Info'].apply(lambda x: x.lower())\n",
    "bad.drop_duplicates(subset=['MAC_id', 'Info'], keep='first', inplace=True)\n",
    "bad = pd.concat([bad, usb_bad], ignore_index=True)\n",
    "bad['label'] = 1\n",
    "\n",
    "good = data['chuoi_sach'].drop(columns=[2]).rename(columns={0: 'MAC_id', 1: 'Type', 3: 'Info'}).drop(index=0)\n",
    "\n",
    "file_good = good[good['Type'] == 'Create File'].copy()\n",
    "file_good['Info'] = file_good['Info'].apply(lambda x: x.split('FileName: ')[1].split('--')[0])\n",
    "\n",
    "autorun_good = good[good['Type'] == 'Autorun'].copy()\n",
    "autorun_good['Info'] = autorun_good['Info'].apply(lambda x: x.split('--')[1])\n",
    "autorun_good['Info'] = autorun_good['Info'].apply(lambda x: re.sub(r'[\\(]No Signed[\\)]', '', x))\n",
    "\n",
    "policy_good = good[good['Type'] == 'Policy'].copy()\n",
    "policy_good['Info'] = policy_good['Info'].apply(lambda x: x.split('--')[1].split('. ')[0])\n",
    "\n",
    "persistence_good = good[good['Type'] == 'Persistence'].copy()\n",
    "persistence_good['Info'] = persistence_good['Info'].apply(lambda x: x.split('ValueData: ')[1].split('--')[0])\n",
    "persistence_good = persistence_good[persistence_good['Info'].map(lambda x: len(re.findall(r'\\\\', x))) != 0]\n",
    "\n",
    "usb_good = good[good['Type'] == 'USB'].copy()\n",
    "\n",
    "good = pd.concat([persistence_good, file_good, autorun_good, policy_good], ignore_index=True)\n",
    "good['Info'] = good['Info'].apply(lambda x: x.lower())\n",
    "good.drop_duplicates(subset=['MAC_id', 'Info'], keep='first', inplace=True)\n",
    "good = pd.concat([good, usb_good], ignore_index=True)\n",
    "good['label'] = 0\n",
    "\n",
    "final2 = pd.concat([bad, good], ignore_index=True)\n",
    "\n",
    "final = pd.concat([final1, final2], ignore_index=True)"
   ]
  },
  {
   "cell_type": "code",
   "execution_count": 5,
   "metadata": {},
   "outputs": [
    {
     "data": {
      "text/plain": [
       "329"
      ]
     },
     "execution_count": 5,
     "metadata": {},
     "output_type": "execute_result"
    }
   ],
   "source": [
    "final['MAC_id'].unique()"
   ]
  },
  {
   "cell_type": "code",
   "execution_count": 256,
   "metadata": {},
   "outputs": [],
   "source": [
    "from gensim.models import FastText, KeyedVectors\n",
    "import os\n",
    "def build_word_vectors(train_data, path=None):\n",
    "    sentences = train_data['Info'].str.split('\\\\').tolist()\n",
    "    model = FastText(vector_size=300, window=10, min_count=1, workers=4, sg=0, sentences=sentences)\n",
    "    # model.build_vocab(sentences=sentences)\n",
    "    model.train(sentences, total_examples=len(sentences), epochs=10)\n",
    "    if path is not None:\n",
    "        model.wv.save(path)\n",
    "    return model.wv\n",
    "\n",
    "index = final[(final['Type'] == 'Black Domain') | (final['Type'] == 'Malware') | (final['Type'] == 'USB')].index\n",
    "data_to_vector = final.drop(index=index)\n",
    "word_vectors = build_word_vectors(data_to_vector)"
   ]
  },
  {
   "cell_type": "code",
   "execution_count": 257,
   "metadata": {},
   "outputs": [],
   "source": [
    "data_to_vector['text_tokenized'] = data_to_vector['Info'].str.split('\\\\')\n",
    "data_to_vector['text_vect_mean'] = data_to_vector['text_tokenized'].apply(\n",
    "    lambda x: np.array([word_vectors[token] for token in x]).mean(axis=0))"
   ]
  },
  {
   "cell_type": "code",
   "execution_count": 258,
   "metadata": {},
   "outputs": [],
   "source": [
    "from sklearn.ensemble import RandomForestClassifier\n",
    "from sklearn.tree import DecisionTreeClassifier\n",
    "\n",
    "def get_model(cfg, name='xgb'):\n",
    "    if name == 'rf':\n",
    "        model = RandomForestClassifier(\n",
    "            n_estimators=cfg['n_estimators'], \n",
    "            max_depth=cfg['max_depth'], \n",
    "            min_samples_split=cfg['min_samples_split'], \n",
    "            min_samples_leaf=cfg['min_samples_leaf'], \n",
    "            max_features=cfg['max_features'], \n",
    "            n_jobs=-1, \n",
    "            random_state=42,\n",
    "            class_weight='balanced'\n",
    "        )\n",
    "    elif name == 'dt':\n",
    "        model = DecisionTreeClassifier(\n",
    "            max_depth=cfg['max_depth'], \n",
    "            min_samples_split=cfg['min_samples_split'], \n",
    "            min_samples_leaf=cfg['min_samples_leaf'], \n",
    "            max_features=cfg['max_features'],\n",
    "            random_state=42\n",
    "        )\n",
    "    return model"
   ]
  },
  {
   "cell_type": "code",
   "execution_count": 3,
   "metadata": {},
   "outputs": [],
   "source": [
    "# import pandas as pd\n",
    "# data = pd.read_csv('full_data1.csv')\n",
    "# data[data['label'] == 1]['process_path'].values"
   ]
  },
  {
   "cell_type": "code",
   "execution_count": 259,
   "metadata": {},
   "outputs": [],
   "source": [
    "from sklearn.metrics import accuracy_score, recall_score, precision_score, f1_score\n",
    "def score(y_true, y_pred):\n",
    "    accuracy = accuracy_score(y_true, y_pred)\n",
    "    precision = precision_score(y_true, y_pred)\n",
    "    recall = recall_score(y_true, y_pred)\n",
    "    f1 = f1_score(y_true, y_pred)\n",
    "    return {'accuracy': accuracy, 'precision': precision,\n",
    "            'recall': recall, 'f1_score': f1}"
   ]
  },
  {
   "cell_type": "code",
   "execution_count": 260,
   "metadata": {},
   "outputs": [],
   "source": [
    "from sklearn.model_selection import train_test_split\n",
    "RF_CONFIG = dict(\n",
    "    n_estimators=60,\n",
    "    max_depth=34, \n",
    "    min_samples_split=2,\n",
    "    min_samples_leaf=10,\n",
    "    max_features=0.65\n",
    ")\n",
    "data_to_vector = data_to_vector.sample(frac=1.0)\n",
    "train, test = train_test_split(data_to_vector, test_size=0.1, random_state=42, stratify=data_to_vector['label'])\n",
    "rf_model = get_model(RF_CONFIG, name='rf')\n",
    "rf_model.fit(np.stack(train['text_vect_mean']), train['label'])\n",
    "rf_pred = rf_model.predict(np.stack(test['text_vect_mean']))"
   ]
  },
  {
   "cell_type": "code",
   "execution_count": 5,
   "metadata": {},
   "outputs": [],
   "source": [
    "# score(test['label'], rf_pred)"
   ]
  },
  {
   "cell_type": "code",
   "execution_count": 262,
   "metadata": {},
   "outputs": [],
   "source": [
    "data_pred = rf_model.predict(np.stack(data_to_vector['text_vect_mean']))\n",
    "data_to_vector['event_pred'] = data_pred\n",
    "data_to_vector.drop(columns=['text_tokenized', 'text_vect_mean'], inplace=True)\n",
    "mal_df = final[(final['Type'] == 'Black Domain') | (final['Type'] == 'Malware')].copy()\n",
    "mal_df['event_pred'] = 1\n",
    "data_final = pd.concat([data_to_vector, mal_df], ignore_index=True)"
   ]
  },
  {
   "cell_type": "code",
   "execution_count": 277,
   "metadata": {},
   "outputs": [],
   "source": [
    "data_gr = data_final.groupby('MAC_id').agg({'label': ['sum', 'mean'], 'event_pred': ['sum', 'mean'], 'Type': list})\n",
    "data_gr.columns = ['_'.join(col) for col in data_gr.columns]\n",
    "data_gr['MAC_label'] = data_gr.apply(lambda x: 1 if ('Malware' in x['Type_list']) or ('Black Domain' in x['Type_list']) else 1 if x['label_mean'] > 0.5 else 0, axis=1)\n",
    "data_gr['MAC_pred'] = data_gr.apply(lambda x: 1 if ('Malware' in x['Type_list']) or ('Black Domain' in x['Type_list']) else 1 if x['event_pred_mean'] > 0.5 else 0, axis=1)"
   ]
  },
  {
   "cell_type": "code",
   "execution_count": 4,
   "metadata": {},
   "outputs": [],
   "source": [
    "# score(data_gr['MAC_label'], data_gr['MAC_pred'])"
   ]
  },
  {
   "cell_type": "code",
   "execution_count": null,
   "metadata": {},
   "outputs": [],
   "source": []
  }
 ],
 "metadata": {
  "kernelspec": {
   "display_name": "Python 3 (ipykernel)",
   "language": "python",
   "name": "python3"
  },
  "language_info": {
   "codemirror_mode": {
    "name": "ipython",
    "version": 3
   },
   "file_extension": ".py",
   "mimetype": "text/x-python",
   "name": "python",
   "nbconvert_exporter": "python",
   "pygments_lexer": "ipython3",
   "version": "3.10.9"
  },
  "vscode": {
   "interpreter": {
    "hash": "63550b7efb721e1e0c3bc40f7603c00b51f92dbc2f9818ecd06a7662d9dd0193"
   }
  }
 },
 "nbformat": 4,
 "nbformat_minor": 4
}
